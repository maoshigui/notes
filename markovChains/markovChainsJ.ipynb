{
 "cells": [
  {
   "cell_type": "markdown",
   "metadata": {},
   "source": [
    "# 一、用代码实现马尔科夫链\n",
    "\n",
    "全文约定：转移概率矩阵P的第 ***i*** 行的每个元素，表示从第 ***i*** 个状态迁移到状态空间中其他状态的概率，即:\n",
    " <big> $$P_{ij}=P(x_i, x_j)=P\\{X_{t+1} = x_j | X_t = x_i\\}， 其中  (x_i, x_j ∈ S)， S为状态空间$$ </big>\n",
    "\n",
    "## 1.1、示意代码"
   ]
  },
  {
   "cell_type": "code",
   "execution_count": 1,
   "metadata": {
    "collapsed": true
   },
   "outputs": [],
   "source": [
    "using QuantEcon"
   ]
  },
  {
   "cell_type": "code",
   "execution_count": 2,
   "metadata": {
    "collapsed": false
   },
   "outputs": [
    {
     "data": {
      "text/plain": [
       "mc_sample (generic function with 1 method)"
      ]
     },
     "execution_count": 2,
     "metadata": {},
     "output_type": "execute_result"
    }
   ],
   "source": [
    "function mc_sample(P_init; init=1, sample_size=1000)\n",
    "    X = Array(Int64, sample_size) # alloc memory\n",
    "    X[1] = init # push init state\n",
    "    \n",
    "    # == 把初始转移概率矩阵P_init的每一行都转换为一个离散分布（Discrete distribution） == #\n",
    "    # == 则P_dist的每个元素 i，分别表示状态 i 的转移概率分布\n",
    "    n = size(P_init)[1]\n",
    "    P_dist = [DiscreteRV(vec(P_init[i,:])) for i in 1:n]\n",
    "    \n",
    "    # == 根据P_dist中状态 i 的概率分布，随机选择下一个状态，填充到结果X中 == #\n",
    "    for t in 1:(sample_size - 1)\n",
    "        X[t+1] = draw(P_dist[X[t]])\n",
    "    end\n",
    "    \n",
    "    return X\n",
    "end"
   ]
  },
  {
   "cell_type": "code",
   "execution_count": 3,
   "metadata": {
    "collapsed": false
   },
   "outputs": [
    {
     "data": {
      "text/plain": [
       "10-element Array{Int64,1}:\n",
       " 1\n",
       " 2\n",
       " 1\n",
       " 2\n",
       " 1\n",
       " 1\n",
       " 1\n",
       " 2\n",
       " 2\n",
       " 2"
      ]
     },
     "execution_count": 3,
     "metadata": {},
     "output_type": "execute_result"
    }
   ],
   "source": [
    "# 假设有 2 个状态（1，2），对应的转移概率矩阵如下P_init\n",
    "P_init = [0.4 0.6;\n",
    "          0.2 0.8]\n",
    "mc_sample(P_init, sample_size=10)"
   ]
  },
  {
   "cell_type": "markdown",
   "metadata": {},
   "source": [
    "## 1.2、 使用库函数"
   ]
  },
  {
   "cell_type": "code",
   "execution_count": 4,
   "metadata": {
    "collapsed": false
   },
   "outputs": [
    {
     "data": {
      "text/plain": [
       "10-element Array{Int64,1}:\n",
       " 2\n",
       " 2\n",
       " 2\n",
       " 2\n",
       " 2\n",
       " 2\n",
       " 2\n",
       " 1\n",
       " 2\n",
       " 1"
      ]
     },
     "execution_count": 4,
     "metadata": {},
     "output_type": "execute_result"
    }
   ],
   "source": [
    "mc = MarkovChain(P_init)\n",
    "simulate(mc, 10)"
   ]
  },
  {
   "cell_type": "code",
   "execution_count": 5,
   "metadata": {
    "collapsed": false
   },
   "outputs": [
    {
     "data": {
      "text/plain": [
       "5-element Array{String,1}:\n",
       " \"employed\"  \n",
       " \"unemployed\"\n",
       " \"unemployed\"\n",
       " \"unemployed\"\n",
       " \"unemployed\""
      ]
     },
     "execution_count": 5,
     "metadata": {},
     "output_type": "execute_result"
    }
   ],
   "source": [
    "# 有具体名称的状态\n",
    "mc2 = MarkovChain(P_init, [\"employed\", \"unemployed\"])\n",
    "simulate(mc2, 5, init=1) # 假设初始状态是 \"employed\""
   ]
  },
  {
   "cell_type": "markdown",
   "metadata": {},
   "source": [
    "# 二、平稳分布 Stationary Distributions\n",
    "若转移概率矩阵为P，其平稳分布 ***V***($1 * N$ 向量，第 **i** 个元素为状态 **i** 的占比，所有元素之和为1)满足：\n",
    "$$V = VP $$\n",
    "\n",
    "平稳分布的计算，可以用：\n",
    "- 迭代法\n",
    "- 特征向量（特征值为1的特征向量）\n",
    "- 代数计算\n",
    "\n",
    "下面通过画图直观的感受一下转移矩阵随着迭代趋近于平稳分布。"
   ]
  },
  {
   "cell_type": "code",
   "execution_count": 6,
   "metadata": {
    "collapsed": false
   },
   "outputs": [
    {
     "data": {
      "text/plain": [
       "Plots.PyPlotBackend()"
      ]
     },
     "execution_count": 6,
     "metadata": {},
     "output_type": "execute_result"
    }
   ],
   "source": [
    "using Plots\n",
    "pyplot()\n",
    "Plots.PyPlotBackend()"
   ]
  },
  {
   "cell_type": "code",
   "execution_count": 7,
   "metadata": {
    "collapsed": false
   },
   "outputs": [
    {
     "data": {
      "text/plain": [
       "simStationaryDist (generic function with 1 method)"
      ]
     },
     "execution_count": 7,
     "metadata": {},
     "output_type": "execute_result"
    }
   ],
   "source": [
    "# v_init 是初始概率分布\n",
    "function simStationaryDist()\n",
    "    # 构造一个转移概率矩阵\n",
    "    P =[0.971 0.029 0.000\n",
    "        0.145 0.778 0.077\n",
    "        0.000 0.508 0.492]\n",
    "    \n",
    "    # 假设一个初始状态概率分布\n",
    "    psi = [0.0 0.2 0.8]\n",
    "    \n",
    "    t = 20\n",
    "    x_vals = Array(Float64, t+1)\n",
    "    y_vals = Array(Float64, t+1)\n",
    "    z_vals = Array(Float64, t+1)\n",
    "    colors = []\n",
    "    \n",
    "    for i=1:t\n",
    "        x_vals[i] = psi[1]\n",
    "        y_vals[i] = psi[2]\n",
    "        z_vals[i] = psi[3]\n",
    "        psi = psi*P\n",
    "        push!(colors, :red)\n",
    "    end\n",
    "    push!(colors, :black)\n",
    "\n",
    "    # 计算平稳分布，并作为最后一个点，用黑色显示\n",
    "    mc = MarkovChain(P)\n",
    "    psi_star = stationary_distributions(mc)[1]\n",
    "    x_vals[t+1] = psi_star[1]\n",
    "    y_vals[t+1] = psi_star[2]\n",
    "    z_vals[t+1] = psi_star[3]\n",
    "    scatter(x_vals, y_vals, z_vals, color=colors)\n",
    "    plot!(lims=(0, 1), legend=:none)\n",
    "end"
   ]
  },
  {
   "cell_type": "code",
   "execution_count": 8,
   "metadata": {
    "collapsed": false
   },
   "outputs": [
    {
     "data": {
      "text/html": [
       "<img src=\"data:image/png;base64,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\" />"
      ]
     },
     "execution_count": 8,
     "metadata": {},
     "output_type": "execute_result"
    }
   ],
   "source": [
    "simStationaryDist()"
   ]
  },
  {
   "cell_type": "markdown",
   "metadata": {},
   "source": [
    "# 三、极限分布\n",
    "\n",
    "对一个不可约性的Markov过程，当 $n \\to \\infty$ 时，满足：\n",
    "$$ \\frac{1}{n}\\sum_{t=1}^{n}1\\{X_t = x\\} \\to V(x) $$\n",
    "\n",
    "- $ 1\\{X_t = x\\} $ 表示当 $X_t$ == x 时取值为1，否则取值为0\n",
    "- 该极限必然存在，且平稳分布就是一个合法的极限\n",
    "\n",
    "下面用一个实际的例子，画图来直观感受一下。\n",
    "\n",
    "假设一个Markov过程有两个状态{1, 2}, 其转移概率矩阵为：\n",
    "\n",
    "  $$ P = \\left( \\begin{array}{cc}\n",
    "1-a & a \\\\\n",
    "b & 1-b \\end{array} \\right) $$\n",
    "  \n",
    "可以计算得到状态 1 的稳定分布为：\n",
    "  $$ V_1 = \\frac{b}{a + b} $$\n",
    "\n",
    "不妨取 a = b = 0.1。计算随着迭代次数增加，状态 1 的极限分布和平稳分布的差值变化情况，并画图。"
   ]
  },
  {
   "cell_type": "code",
   "execution_count": 9,
   "metadata": {
    "collapsed": false
   },
   "outputs": [
    {
     "data": {
      "text/plain": [
       "simDiff (generic function with 1 method)"
      ]
     },
     "execution_count": 9,
     "metadata": {},
     "output_type": "execute_result"
    }
   ],
   "source": [
    "using LaTeXStrings\n",
    "\n",
    "function simDiff()\n",
    "    a = b = 0.1\n",
    "    N = 10000 # 迭代次数\n",
    "    v1 = b / (a + b)\n",
    "\n",
    "    P = [1-a a\n",
    "         b  1-b]\n",
    "    \n",
    "    mc = MarkovChain(P)\n",
    "    \n",
    "    labels = []\n",
    "    y_vals = []\n",
    "    \n",
    "    for x0 = 1:2\n",
    "        X = simulate_indices(mc, N; init=x0)\n",
    "        \n",
    "        y_bar = cumsum(X .== 1) ./ (collect(1:N))\n",
    "        \n",
    "        push!(labels, LaTeXString(\"\\$X_0 = $x0\\$\"))\n",
    "        push!(y_vals, y_bar - v1)\n",
    "    end\n",
    "    \n",
    "    plot(y_vals, fillrange=0, fillalpha=0.1,\n",
    "    ylims=(-0.25, 0.25), label=labels')\n",
    "end"
   ]
  },
  {
   "cell_type": "code",
   "execution_count": 13,
   "metadata": {
    "collapsed": false
   },
   "outputs": [
    {
     "data": {
      "text/html": [
       "<img src=\"data:image/png;base64,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\" />"
      ]
     },
     "execution_count": 13,
     "metadata": {},
     "output_type": "execute_result"
    }
   ],
   "source": [
    "simDiff()"
   ]
  },
  {
   "cell_type": "markdown",
   "metadata": {},
   "source": [
    "# 四、PageRank\n",
    "\n",
    "PageRank对网页排名的算法，曾是Google发家致富的法宝。PageRank算法计算每一个网页的PageRank值，然后根据这个值的大小对网页的重要性进行排序。\n",
    "\n",
    "## 4.1 最简单的算法\n",
    "首先，将Web做如下抽象：\n",
    "- 将每个网页抽象成一个节点；\n",
    "- 如果一个页面A有链接直接链向B，则存在一条有向边从A到B（多个相同链接不重复计算边）。\n",
    "\n",
    "因此，整个Web被抽象为一张有向图。现在假设世界上只有四张网页：A、B、C、D，其抽象结构如下图：\n",
    "![有向图](image/1.png)\n",
    "\n",
    "PageRank算法基本思想：被用户访问**越多**的网页更可能**质量越高**，而用户在浏览网页时主要通过超链接进行页面跳转，因此需要通过分析超链接组成的拓扑结构来推算每个网页被访问频率的高低。最简单的，我们可以**假设**当一个用户停留在某页面时，跳转到页面上每个被链页面的**概率相同**。\n",
    "\n",
    "例如，上图中A页面链向B、C、D，所以一个用户从A跳转到B、C、D的概率各为1/3。显然这是一个转移矩阵。下面是上图的转移矩阵P：\n",
    "$$ P = \\left( \\begin{array}{cc}\n",
    "0           & \\frac{1}{3} & \\frac{1}{3} & \\frac{1}{3} \\\\\n",
    "\\frac{1}{2} &       0     & \\frac{1}{2} & 0 \\\\\n",
    "0           &       0     &     0       & 1 \\\\\n",
    "\\frac{1}{2} & \\frac{1}{2} &     0       & 0\n",
    "\\end{array} \\right) $$\n",
    "\n",
    "若 $P$ 的稳定分布 $V$ 存在（$ V = VP $），则 $V$ 就是最终的Rank值。\n",
    "\n",
    "## 4.2 其他问题\n",
    "- 一个没有链接的页面，会导致Markov过程终止\n",
    "- 一个永远链接到自己的页面，会导致Markov死循环\n",
    "- 用户可能不点链接，而是自己在导航栏输入一个新网址\n",
    "\n",
    "思路：选择下一个页面时，考虑一定概率的跳转到本页面没有的链接（用户自己输入）。\n",
    "\n",
    "假设跳转到当前页面（包括当前页面上的链接）的概率为 $a$（也称为**基尼系数**），那么跳转到其他页面概率为 $(1−a)$，进一步假设每个页面被随机访问的概率相同都是 $\\frac{1}{N}$(N是网页总数)，于是新的转移矩阵为：\n",
    "$$ P' = aP + \\frac{(1-a)}{N}e^Te $$\n",
    "\n",
    "其中e为 $1*N$ 行向量 $e = \\{1, 1, \\cdots, 1\\}$。\n",
    "\n",
    "可以证明，$P'$ 是一个转移矩阵，且满足不可约和非周期性，因此存在稳定分布。\n",
    "\n",
    "## 4.3 计算一个例子\n",
    "假设有如下图的一个网络：\n",
    "![有向图2](image/2.png)\n",
    "\n",
    "将其链接关系（格式见下）存储到文件web_graph_data.txt中。\n"
   ]
  },
  {
   "cell_type": "code",
   "execution_count": 11,
   "metadata": {
    "collapsed": false
   },
   "outputs": [
    {
     "data": {
      "text/plain": [
       "myPageRank"
      ]
     },
     "execution_count": 11,
     "metadata": {},
     "output_type": "execute_result"
    }
   ],
   "source": [
    "\"\"\"\n",
    "数据格式\n",
    "a -> d;\n",
    "a -> f;\n",
    "b -> j;\n",
    "b -> k;\n",
    "b -> m;\n",
    "c -> c;\n",
    "c -> g;\n",
    "c -> j;\n",
    "c -> m;\n",
    "d -> f;\n",
    "d -> h;\n",
    "d -> k;\n",
    "e -> d;\n",
    "e -> h;\n",
    "e -> l;\n",
    "f -> a;\n",
    "f -> b;\n",
    "f -> j;\n",
    "f -> l;\n",
    "g -> b;\n",
    "g -> j;\n",
    "h -> d;\n",
    "h -> g;\n",
    "h -> l;\n",
    "h -> m;\n",
    "i -> g;\n",
    "i -> h;\n",
    "i -> n;\n",
    "j -> e;\n",
    "j -> i;\n",
    "j -> k;\n",
    "k -> n;\n",
    "l -> m;\n",
    "m -> g;\n",
    "n -> c;\n",
    "n -> j;\n",
    "n -> m;\n",
    "\"\"\"\n",
    "function myPageRank()\n",
    "    alphabet = \"abcdefghijklmnopqrstuvwxyz\"\n",
    "    \n",
    "    a = 0.85 # 基尼系数\n",
    "    n = 14   # 节点（页面）总数\n",
    "    \n",
    "    # == 矩阵Q存储页面链接关系== #\n",
    "    #  * Q[i, j] = 1 表示存在一个 i 到 j 的链接\n",
    "    #  * Q[i, j] = 0 不存在链接\n",
    "    Q = zeros(Int64, n, n)\n",
    "\n",
    "    f = open(\"web_graph_data.txt\", \"r\")\n",
    "    links = readlines(f)\n",
    "    close(f)\n",
    "    for link in links\n",
    "        from_node, to_node = matchall(r\"\\w\", link)\n",
    "        i = searchindex(alphabet, from_node)\n",
    "        j = searchindex(alphabet, to_node)\n",
    "        Q[i, j] = 1\n",
    "    end\n",
    "    \n",
    "    # == 创建转移概率矩阵 == #\n",
    "    P = Array(Float64, n, n)\n",
    "    for i=1:n\n",
    "        P[i, :] = a * Q[i, :] / sum(Q[i, :]) + (1 - a)/n\n",
    "    end\n",
    "    \n",
    "    mc = MarkovChain(P)\n",
    "\n",
    "    # == 计算平稳分布 == #\n",
    "    V = stationary_distributions(mc)[1]\n",
    "    \n",
    "    # == 构造一个 页面名称 -> 页面分布概率 的映射关系\n",
    "    ranked_pages = Dict(alphabet[i] => V[i] for i=1:n)\n",
    "\n",
    "    # == 输出结果，按照Rank来排序 == #\n",
    "    println(\"Rankings\\n ***\")\n",
    "    sort_inds = reverse!(sortperm(collect(values(ranked_pages))))\n",
    "    the_keys = collect(keys(ranked_pages))\n",
    "    the_vals = collect(values(ranked_pages))\n",
    "    for i in sort_inds\n",
    "        @printf(\"%s: %.4f\\n\", the_keys[i], the_vals[i])\n",
    "    end\n",
    "end"
   ]
  },
  {
   "cell_type": "code",
   "execution_count": 12,
   "metadata": {
    "collapsed": false
   },
   "outputs": [
    {
     "name": "stdout",
     "output_type": "stream",
     "text": [
      "Rankings\n",
      " ***\n",
      "g: 0.1466\n",
      "j: 0.1398\n",
      "m: 0.1181\n",
      "n: 0.0973\n",
      "k: 0.0851\n",
      "b: 0.0794\n",
      "h: 0.0515\n",
      "e: 0.0503\n",
      "i: 0.0503\n",
      "c: 0.0486\n",
      "d: 0.0432\n",
      "l: 0.0423\n",
      "f: 0.0302\n",
      "a: 0.0171\n"
     ]
    }
   ],
   "source": [
    "myPageRank()"
   ]
  },
  {
   "cell_type": "markdown",
   "metadata": {
    "collapsed": true
   },
   "source": [
    "# 五、参考文献\n",
    "- https://lectures.quantecon.org/jl/finite_markov.html Finite Markov Chains\n",
    "- http://blog.csdn.net/rubinorth/article/details/52215036 PageRank算法--从原理到实现\n",
    "- http://blog.jobbole.com/71431/ PageRank算法简介及Map-Reduce实现\n",
    "- http://blog.csdn.net/ZCF1002797280/article/details/50254069 PageRank算法原理剖析及Spark实现\n",
    "- http://blog.csdn.net/wzy0623/article/details/51383232 PageRank算法在spark上的简单实现\n",
    "- http://www.ppvke.com/Blog/archives/36921 一文搞懂HMM（隐马尔可夫模型）\n",
    "- http://blog.csdn.net/google19890102/article/details/51755242 简单易学的机器学习算法——马尔可夫链蒙特卡罗方法MCMC"
   ]
  },
  {
   "cell_type": "code",
   "execution_count": null,
   "metadata": {
    "collapsed": true
   },
   "outputs": [],
   "source": []
  }
 ],
 "metadata": {
  "anaconda-cloud": {},
  "celltoolbar": "Raw Cell Format",
  "kernelspec": {
   "display_name": "Julia 0.5.0",
   "language": "julia",
   "name": "julia-0.5"
  },
  "language_info": {
   "file_extension": ".jl",
   "mimetype": "application/julia",
   "name": "julia",
   "version": "0.5.0"
  }
 },
 "nbformat": 4,
 "nbformat_minor": 2
}
