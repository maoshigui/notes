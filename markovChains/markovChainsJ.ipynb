{
 "cells": [
  {
   "cell_type": "markdown",
   "metadata": {},
   "source": [
    "1、用代码写一个马尔科夫链出来（Simulation 这一节）\n",
    "2、演示一下平稳分布（Convergence to Stationarity 这一节）\n",
    "3、不可约性的推论-->极限分布的公式，以及证明平稳分布是一个合法的极限分布（Exercise 1）\n",
    "4、用马尔科夫链实现PageRank（Exercise 2）"
   ]
  }
 ],
 "metadata": {
  "anaconda-cloud": {},
  "kernelspec": {
   "display_name": "Julia 0.5.0",
   "language": "julia",
   "name": "julia-0.5"
  },
  "language_info": {
   "file_extension": ".jl",
   "mimetype": "application/julia",
   "name": "julia",
   "version": "0.5.0"
  }
 },
 "nbformat": 4,
 "nbformat_minor": 2
}
