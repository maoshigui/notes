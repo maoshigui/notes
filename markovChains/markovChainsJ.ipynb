{
 "cells": [
  {
   "cell_type": "markdown",
   "metadata": {},
   "source": [
    "# 一、用代码实现马尔科夫链\n",
    "\n",
    "全文约定：转移概率矩阵P的第 ***i*** 行的每个元素，表示从第 ***i*** 个状态迁移到状态空间中其他状态的概率，即:\n",
    " <big> $$P_{ij}=P(x_i, x_j)=P\\{X_{t+1} = x_j | X_t = x_i\\}， 其中  (x_i, x_j ∈ S)， S为状态空间$$ </big>\n",
    "\n",
    "## 1.1、示意代码"
   ]
  },
  {
   "cell_type": "code",
   "execution_count": 1,
   "metadata": {
    "collapsed": true
   },
   "outputs": [],
   "source": [
    "using QuantEcon"
   ]
  },
  {
   "cell_type": "code",
   "execution_count": 2,
   "metadata": {
    "collapsed": false
   },
   "outputs": [
    {
     "data": {
      "text/plain": [
       "mc_sample (generic function with 1 method)"
      ]
     },
     "execution_count": 2,
     "metadata": {},
     "output_type": "execute_result"
    }
   ],
   "source": [
    "function mc_sample(P_init; init=1, sample_size=1000)\n",
    "    X = Array(Int64, sample_size) # alloc memory\n",
    "    X[1] = init # push init state\n",
    "    \n",
    "    # == 把初始转移概率矩阵P_init的每一行都转换为一个离散分布（Discrete distribution） == #\n",
    "    # == 则P_dist的每个元素 i，分别表示状态 i 的转移概率分布\n",
    "    n = size(P_init)[1]\n",
    "    P_dist = [DiscreteRV(vec(P_init[i,:])) for i in 1:n]\n",
    "    \n",
    "    # == 根据P_dist中状态 i 的概率分布，随机选择下一个状态，填充到结果X中 == #\n",
    "    for t in 1:(sample_size - 1)\n",
    "        X[t+1] = draw(P_dist[X[t]])\n",
    "    end\n",
    "    \n",
    "    return X\n",
    "end"
   ]
  },
  {
   "cell_type": "code",
   "execution_count": 3,
   "metadata": {
    "collapsed": false
   },
   "outputs": [
    {
     "data": {
      "text/plain": [
       "10-element Array{Int64,1}:\n",
       " 1\n",
       " 2\n",
       " 1\n",
       " 2\n",
       " 1\n",
       " 1\n",
       " 1\n",
       " 2\n",
       " 2\n",
       " 2"
      ]
     },
     "execution_count": 3,
     "metadata": {},
     "output_type": "execute_result"
    }
   ],
   "source": [
    "# 假设有 2 个状态（1，2），对应的转移概率矩阵如下P_init\n",
    "P_init = [0.4 0.6;\n",
    "          0.2 0.8]\n",
    "mc_sample(P_init, sample_size=10)"
   ]
  },
  {
   "cell_type": "markdown",
   "metadata": {},
   "source": [
    "## 1.2、 使用库函数"
   ]
  },
  {
   "cell_type": "code",
   "execution_count": 4,
   "metadata": {
    "collapsed": false
   },
   "outputs": [
    {
     "data": {
      "text/plain": [
       "10-element Array{Int64,1}:\n",
       " 2\n",
       " 2\n",
       " 2\n",
       " 2\n",
       " 2\n",
       " 2\n",
       " 2\n",
       " 1\n",
       " 2\n",
       " 1"
      ]
     },
     "execution_count": 4,
     "metadata": {},
     "output_type": "execute_result"
    }
   ],
   "source": [
    "mc = MarkovChain(P_init)\n",
    "simulate(mc, 10)"
   ]
  },
  {
   "cell_type": "code",
   "execution_count": 5,
   "metadata": {
    "collapsed": false
   },
   "outputs": [
    {
     "data": {
      "text/plain": [
       "5-element Array{String,1}:\n",
       " \"employed\"  \n",
       " \"unemployed\"\n",
       " \"unemployed\"\n",
       " \"unemployed\"\n",
       " \"unemployed\""
      ]
     },
     "execution_count": 5,
     "metadata": {},
     "output_type": "execute_result"
    }
   ],
   "source": [
    "# 有具体名称的状态\n",
    "mc2 = MarkovChain(P_init, [\"employed\", \"unemployed\"])\n",
    "simulate(mc2, 5, init=1) # 假设初始状态是 \"employed\""
   ]
  },
  {
   "cell_type": "markdown",
   "metadata": {},
   "source": [
    "# 二、平稳分布 Stationary Distributions\n",
    "若转移概率矩阵为P，其平稳分布 ***V***($1 * N$ 向量，第 **i** 个元素为状态 **i** 的占比，所有元素之和为1)满足：\n",
    "$$V = VP $$\n",
    "\n",
    "平稳分布的计算，可以用：\n",
    "- 迭代法\n",
    "- 特征向量（特征值为1的特征向量）\n",
    "- 代数计算\n",
    "\n",
    "下面通过画图直观的感受一下转移矩阵随着迭代趋近于平稳分布。"
   ]
  },
  {
   "cell_type": "code",
   "execution_count": 6,
   "metadata": {
    "collapsed": false
   },
   "outputs": [
    {
     "data": {
      "text/plain": [
       "Plots.PyPlotBackend()"
      ]
     },
     "execution_count": 6,
     "metadata": {},
     "output_type": "execute_result"
    }
   ],
   "source": [
    "using Plots\n",
    "pyplot()\n",
    "Plots.PyPlotBackend()"
   ]
  },
  {
   "cell_type": "code",
   "execution_count": 7,
   "metadata": {
    "collapsed": false
   },
   "outputs": [
    {
     "data": {
      "text/plain": [
       "simStationaryDist (generic function with 1 method)"
      ]
     },
     "execution_count": 7,
     "metadata": {},
     "output_type": "execute_result"
    }
   ],
   "source": [
    "# v_init 是初始概率分布\n",
    "function simStationaryDist()\n",
    "    # 构造一个转移概率矩阵\n",
    "    P =[0.971 0.029 0.000\n",
    "        0.145 0.778 0.077\n",
    "        0.000 0.508 0.492]\n",
    "    \n",
    "    # 假设一个初始状态概率分布\n",
    "    psi = [0.0 0.2 0.8]\n",
    "    \n",
    "    t = 20\n",
    "    x_vals = Array(Float64, t+1)\n",
    "    y_vals = Array(Float64, t+1)\n",
    "    z_vals = Array(Float64, t+1)\n",
    "    colors = []\n",
    "    \n",
    "    for i=1:t\n",
    "        x_vals[i] = psi[1]\n",
    "        y_vals[i] = psi[2]\n",
    "        z_vals[i] = psi[3]\n",
    "        psi = psi*P\n",
    "        push!(colors, :red)\n",
    "    end\n",
    "    push!(colors, :black)\n",
    "\n",
    "    # 计算平稳分布，并作为最后一个点，用黑色显示\n",
    "    mc = MarkovChain(P)\n",
    "    psi_star = stationary_distributions(mc)[1]\n",
    "    x_vals[t+1] = psi_star[1]\n",
    "    y_vals[t+1] = psi_star[2]\n",
    "    z_vals[t+1] = psi_star[3]\n",
    "    scatter(x_vals, y_vals, z_vals, color=colors)\n",
    "    plot!(lims=(0, 1), legend=:none)\n",
    "end"
   ]
  },
  {
   "cell_type": "code",
   "execution_count": 8,
   "metadata": {
    "collapsed": false
   },
   "outputs": [
    {
     "data": {
      "text/html": [
       "<img src=\"data:image/png;base64,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\" />"
      ]
     },
     "execution_count": 8,
     "metadata": {},
     "output_type": "execute_result"
    }
   ],
   "source": [
    "simStationaryDist()"
   ]
  },
  {
   "cell_type": "markdown",
   "metadata": {},
   "source": [
    "# 三、极限分布\n",
    "\n",
    "对一个不可约性的Markov过程，当 $n \\to \\infty$ 时，满足：\n",
    "$$ \\frac{1}{n}\\sum_{t=1}^{n}1\\{X_t = x\\} \\to V(x) $$\n",
    "\n",
    "- $ 1\\{X_t = x\\} $ 表示当 $X_t$ == x 时取值为1，否则取值为0\n",
    "- 该极限必然存在，且平稳分布就是一个合法的极限\n",
    "\n",
    "下面用一个实际的例子，画图来直观感受一下。\n",
    "\n",
    "假设一个Markov过程有两个状态{1, 2}, 其转移概率矩阵为：\n",
    "\n",
    "  $$ P = \\left( \\begin{array}{cc}\n",
    "1-a & a \\\\\n",
    "b & 1-b \\end{array} \\right) $$\n",
    "  \n",
    "可以计算得到状态 1 的稳定分布为：\n",
    "  $$ V_1 = \\frac{b}{a + b} $$\n",
    "\n",
    "不妨取 a = b = 0.1。计算随着迭代次数增加，状态 1 的极限分布和平稳分布的差值变化情况，并画图。"
   ]
  },
  {
   "cell_type": "code",
   "execution_count": 9,
   "metadata": {
    "collapsed": false
   },
   "outputs": [
    {
     "data": {
      "text/plain": [
       "simDiff (generic function with 1 method)"
      ]
     },
     "execution_count": 9,
     "metadata": {},
     "output_type": "execute_result"
    }
   ],
   "source": [
    "using LaTeXStrings\n",
    "\n",
    "function simDiff()\n",
    "    a = b = 0.1\n",
    "    N = 10000 # 迭代次数\n",
    "    v1 = b / (a + b)\n",
    "\n",
    "    P = [1-a a\n",
    "         b  1-b]\n",
    "    \n",
    "    mc = MarkovChain(P)\n",
    "    \n",
    "    labels = []\n",
    "    y_vals = []\n",
    "    \n",
    "    for x0 = 1:2\n",
    "        X = simulate_indices(mc, N; init=x0)\n",
    "        \n",
    "        y_bar = cumsum(X .== 1) ./ (collect(1:N))\n",
    "        \n",
    "        push!(labels, LaTeXString(\"\\$X_0 = $x0\\$\"))\n",
    "        push!(y_vals, y_bar - v1)\n",
    "    end\n",
    "    \n",
    "    plot(y_vals, fillrange=0, fillalpha=0.1,\n",
    "    ylims=(-0.25, 0.25), label=labels')\n",
    "end"
   ]
  },
  {
   "cell_type": "code",
   "execution_count": 10,
   "metadata": {
    "collapsed": false
   },
   "outputs": [
    {
     "name": "stderr",
     "output_type": "stream",
     "text": [
      "\u001b[1m\u001b[31mWARNING: the no-op `transpose` fallback is deprecated, and no more specific `transpose` method for LaTeXStrings.LaTeXString exists. Consider `permutedims(x, [2, 1])` or writing a specific `transpose(x::LaTeXStrings.LaTeXString)` method if appropriate.\u001b[0m\n",
      " in depwarn(::String, ::Symbol) at ./deprecated.jl:64\n",
      " in transpose(::LaTeXStrings.LaTeXString) at ./deprecated.jl:770\n",
      " in ctranspose at ./operators.jl:315 [inlined]\n",
      " in (::Base.##209#210)(::Tuple{Int64,LaTeXStrings.LaTeXString}) at ./<missing>:0\n",
      " in copy!(::Array{Any,2}, ::Base.Generator{Base.Prod2{Base.OneTo{Int64},Array{Any,1}},Base.##209#210}) at ./abstractarray.jl:477\n",
      " in _collect(::Type{Any}, ::Base.Generator{Base.Prod2{Base.OneTo{Int64},Array{Any,1}},Base.##209#210}, ::Base.HasShape) at ./array.jl:251\n",
      " in ctranspose(::Array{Any,1}) at ./arraymath.jl:417\n",
      " in simDiff() at ./In[9]:25\n",
      " in include_string(::String, ::String) at ./loading.jl:441\n",
      " in execute_request(::ZMQ.Socket, ::IJulia.Msg) at /home/zte/.julia/v0.5/IJulia/src/execute_request.jl:157\n",
      " in eventloop(::ZMQ.Socket) at /home/zte/.julia/v0.5/IJulia/src/eventloop.jl:8\n",
      " in (::IJulia.##13#19)() at ./task.jl:360\n",
      "while loading In[10], in expression starting on line 1\n"
     ]
    },
    {
     "data": {
      "text/html": [
       "<img src=\"data:image/png;base64,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\" />"
      ]
     },
     "execution_count": 10,
     "metadata": {},
     "output_type": "execute_result"
    }
   ],
   "source": [
    "simDiff()"
   ]
  },
  {
   "cell_type": "markdown",
   "metadata": {},
   "source": [
    "# 四、PageRank\n",
    "\n",
    "PageRank对网页排名的算法，曾是Google发家致富的法宝。PageRank算法计算每一个网页的PageRank值，然后根据这个值的大小对网页的重要性进行排序。\n",
    "\n",
    "## 4.1 最简单的算法\n",
    "首先，将Web做如下抽象：\n",
    "- 将每个网页抽象成一个节点；\n",
    "- 如果一个页面A有链接直接链向B，则存在一条有向边从A到B（多个相同链接不重复计算边）。\n",
    "\n",
    "因此，整个Web被抽象为一张有向图。现在假设世界上只有四张网页：A、B、C、D，其抽象结构如下图：\n",
    "![有向图](image/1.png)\n",
    "\n",
    "PageRank算法基本思想：被用户访问**越多**的网页更可能**质量越高**，而用户在浏览网页时主要通过超链接进行页面跳转，因此需要通过分析超链接组成的拓扑结构来推算每个网页被访问频率的高低。最简单的，我们可以**假设**当一个用户停留在某页面时，跳转到页面上每个被链页面的**概率相同**。\n",
    "\n",
    "例如，上图中A页面链向B、C、D，所以一个用户从A跳转到B、C、D的概率各为1/3。显然这是一个转移矩阵。下面是上图的转移矩阵P：\n",
    "$$ P = \\left( \\begin{array}{cc}\n",
    "0           & \\frac{1}{3} & \\frac{1}{3} & \\frac{1}{3} \\\\\n",
    "\\frac{1}{2} &       0     & \\frac{1}{2} & 0 \\\\\n",
    "0           &       0     &     0       & 1 \\\\\n",
    "\\frac{1}{2} & \\frac{1}{2} &     0       & 0\n",
    "\\end{array} \\right) $$\n",
    "\n",
    "若 $P$ 的稳定分布 $V$ 存在（$ V = VP $），则 $V$ 就是最终的Rank值。\n",
    "\n",
    "## 4.2 其他问题\n",
    "- 一个没有链接的页面，会导致Markov过程终止\n",
    "- 一个永远链接到自己的页面，会导致Markov死循环\n",
    "- 用户可能不点链接，而是自己在导航栏输入一个新网址\n",
    "\n",
    "思路：选择下一个页面时，考虑一定概率的跳转到本页面没有的链接（用户自己输入）。\n",
    "\n",
    "假设跳转到当前页面（包括当前页面上的链接）的概率为 $a$（也称为**基尼系数**），那么跳转到其他页面概率为 $(1−a)$，进一步假设每个页面被随机访问的概率相同都是 $\\frac{1}{N}$(N是网页总数)，于是新的转移矩阵为：\n",
    "$$ P' = aP + \\frac{(1-a)}{N}e^Te $$\n",
    "\n",
    "其中e为 $1*N$ 行向量 $e = \\{1, 1, \\cdots, 1\\}$。\n",
    "\n",
    "可以证明，$P'$ 是一个转移矩阵，且满足不可约和非周期性，因此存在稳定分布。\n",
    "\n",
    "## 4.3 计算一个例子\n",
    "假设有如下图的一个网络：\n",
    "![有向图2](image/2.png)\n",
    "\n",
    "将其链接关系（格式见下）存储到文件web_graph_data.txt中。\n"
   ]
  },
  {
   "cell_type": "code",
   "execution_count": 11,
   "metadata": {
    "collapsed": false
   },
   "outputs": [
    {
     "data": {
      "text/plain": [
       "myPageRank"
      ]
     },
     "execution_count": 11,
     "metadata": {},
     "output_type": "execute_result"
    }
   ],
   "source": [
    "\"\"\"\n",
    "数据格式\n",
    "a -> d;\n",
    "a -> f;\n",
    "b -> j;\n",
    "b -> k;\n",
    "b -> m;\n",
    "c -> c;\n",
    "c -> g;\n",
    "c -> j;\n",
    "c -> m;\n",
    "d -> f;\n",
    "d -> h;\n",
    "d -> k;\n",
    "e -> d;\n",
    "e -> h;\n",
    "e -> l;\n",
    "f -> a;\n",
    "f -> b;\n",
    "f -> j;\n",
    "f -> l;\n",
    "g -> b;\n",
    "g -> j;\n",
    "h -> d;\n",
    "h -> g;\n",
    "h -> l;\n",
    "h -> m;\n",
    "i -> g;\n",
    "i -> h;\n",
    "i -> n;\n",
    "j -> e;\n",
    "j -> i;\n",
    "j -> k;\n",
    "k -> n;\n",
    "l -> m;\n",
    "m -> g;\n",
    "n -> c;\n",
    "n -> j;\n",
    "n -> m;\n",
    "\"\"\"\n",
    "function myPageRank()\n",
    "    alphabet = \"abcdefghijklmnopqrstuvwxyz\"\n",
    "    \n",
    "    a = 0.85 # 基尼系数\n",
    "    n = 14   # 节点（页面）总数\n",
    "    \n",
    "    # == 矩阵Q存储页面链接关系== #\n",
    "    #  * Q[i, j] = 1 表示存在一个 i 到 j 的链接\n",
    "    #  * Q[i, j] = 0 不存在链接\n",
    "    Q = zeros(Int64, n, n)\n",
    "\n",
    "    f = open(\"web_graph_data.txt\", \"r\")\n",
    "    links = readlines(f)\n",
    "    close(f)\n",
    "    for link in links\n",
    "        from_node, to_node = matchall(r\"\\w\", link)\n",
    "        i = searchindex(alphabet, from_node)\n",
    "        j = searchindex(alphabet, to_node)\n",
    "        Q[i, j] = 1\n",
    "    end\n",
    "    \n",
    "    # == 创建转移概率矩阵 == #\n",
    "    P = Array(Float64, n, n)\n",
    "    for i=1:n\n",
    "        P[i, :] = a * Q[i, :] / sum(Q[i, :]) + (1 - a)/n\n",
    "    end\n",
    "    \n",
    "    mc = MarkovChain(P)\n",
    "\n",
    "    # == 计算平稳分布 == #\n",
    "    V = stationary_distributions(mc)[1]\n",
    "    \n",
    "    # == 构造一个 页面名称 -> 页面分布概率 的映射关系\n",
    "    ranked_pages = Dict(alphabet[i] => V[i] for i=1:n)\n",
    "\n",
    "    # == 输出结果，按照Rank来排序 == #\n",
    "    println(\"Rankings\\n ***\")\n",
    "    sort_inds = reverse!(sortperm(collect(values(ranked_pages))))\n",
    "    the_keys = collect(keys(ranked_pages))\n",
    "    the_vals = collect(values(ranked_pages))\n",
    "    for i in sort_inds\n",
    "        @printf(\"%s: %.4f\\n\", the_keys[i], the_vals[i])\n",
    "    end\n",
    "end"
   ]
  },
  {
   "cell_type": "code",
   "execution_count": 12,
   "metadata": {
    "collapsed": false
   },
   "outputs": [
    {
     "name": "stdout",
     "output_type": "stream",
     "text": [
      "Rankings\n",
      " ***\n",
      "g: 0.1466\n",
      "j: 0.1398\n",
      "m: 0.1181\n",
      "n: 0.0973\n",
      "k: 0.0851\n",
      "b: 0.0794\n",
      "h: 0.0515\n",
      "e: 0.0503\n",
      "i: 0.0503\n",
      "c: 0.0486\n",
      "d: 0.0432\n",
      "l: 0.0423\n",
      "f: 0.0302\n",
      "a: 0.0171\n"
     ]
    }
   ],
   "source": [
    "myPageRank()"
   ]
  },
  {
   "cell_type": "markdown",
   "metadata": {
    "collapsed": true
   },
   "source": [
    "# 五、参考文献\n",
    "- https://lectures.quantecon.org/jl/finite_markov.html Finite Markov Chains\n",
    "- http://blog.csdn.net/rubinorth/article/details/52215036 PageRank算法--从原理到实现\n",
    "- http://blog.csdn.net/ZCF1002797280/article/details/50254069 PageRank算法原理剖析及Spark实现\n",
    "- http://blog.csdn.net/wzy0623/article/details/51383232 PageRank算法在spark上的简单实现\n",
    "- http://www.ppvke.com/Blog/archives/36921 一文搞懂HMM（隐马尔可夫模型）\n",
    "- http://blog.csdn.net/google19890102/article/details/51755242 简单易学的机器学习算法——马尔可夫链蒙特卡罗方法MCMC"
   ]
  },
  {
   "cell_type": "code",
   "execution_count": null,
   "metadata": {
    "collapsed": true
   },
   "outputs": [],
   "source": []
  }
 ],
 "metadata": {
  "anaconda-cloud": {},
  "celltoolbar": "Raw Cell Format",
  "kernelspec": {
   "display_name": "Julia 0.5.0",
   "language": "julia",
   "name": "julia-0.5"
  },
  "language_info": {
   "file_extension": ".jl",
   "mimetype": "application/julia",
   "name": "julia",
   "version": "0.5.0"
  }
 },
 "nbformat": 4,
 "nbformat_minor": 2
}
